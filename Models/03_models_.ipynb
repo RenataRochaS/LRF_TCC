{
 "cells": [
  {
   "cell_type": "markdown",
   "metadata": {
    "id": "wKcCx68hsCJy"
   },
   "source": [
    "Análise da Situação dos Municípios Brasileiros quanto ao cumprimento dos itens avaliados pela Lei de Responsabilidade Fiscal"
   ]
  },
  {
   "cell_type": "markdown",
   "metadata": {
    "id": "UDDywmUcsCJ6"
   },
   "source": [
    "Modelos de Classificação"
   ]
  },
  {
   "cell_type": "markdown",
   "metadata": {
    "id": "ese7ugBOsCJ_"
   },
   "source": [
    "1) Importação das Bibliotecas"
   ]
  },
  {
   "cell_type": "code",
   "execution_count": null,
   "metadata": {
    "id": "aoly4RE4sCKD"
   },
   "outputs": [],
   "source": [
    "import pandas as pd\n",
    "import numpy as np\n",
    "import seaborn as sb\n",
    "import datetime \n",
    "from datetime import timedelta \n",
    "import time\n",
    "import matplotlib.pyplot as plt\n",
    "from matplotlib import rcParams\n",
    "from sklearn.cluster import KMeans as kmeans\n",
    "from sklearn import svm\n",
    "from sklearn.preprocessing import StandardScaler\n",
    "from sklearn.metrics import silhouette_score as silhouette\n",
    "from sklearn.linear_model import LogisticRegression\n",
    "from sklearn.naive_bayes import MultinomialNB\n",
    "from sklearn.multiclass import OneVsRestClassifier\n",
    "from sklearn.svm import LinearSVC\n",
    "from sklearn.model_selection import train_test_split\n",
    "from sklearn.model_selection import cross_val_score\n",
    "from sklearn.metrics import accuracy_score, f1_score, precision_score, recall_score\n",
    "from sklearn.metrics import confusion_matrix\n",
    "from sklearn import metrics as sk_metrics\n",
    "from sklearn.metrics import classification_report\n",
    "import itertools\n",
    "import warnings\n",
    "warnings.filterwarnings('ignore')"
   ]
  },
  {
   "cell_type": "markdown",
   "metadata": {
    "id": "yBr07WWnsCKd"
   },
   "source": [
    "2) Matrix de Confusão"
   ]
  },
  {
   "cell_type": "code",
   "execution_count": null,
   "metadata": {
    "id": "pqjGZI8wsCKh"
   },
   "outputs": [],
   "source": [
    "def plot_confusion_matrix(cm, classes,normalize=False,cmap=plt.cm.Blues):\n",
    "  title='Matrix de Confusão'\n",
    "  try:\n",
    "    if normalize:\n",
    "        cm = cm.astype('float') / cm.sum(axis=1)[:, np.newaxis]\n",
    "    plt.imshow(cm, interpolation='nearest', cmap=cmap)\n",
    "    plt.title(title)\n",
    "    plt.colorbar()\n",
    "    tick_marks = np.arange(len(classes))\n",
    "    plt.xticks(tick_marks, classes, rotation=45)\n",
    "    plt.yticks(tick_marks, classes)\n",
    "    fmt = '.2f' if normalize else 'd'\n",
    "    thresh = cm.max() / 2.\n",
    "    for i, j in itertools.product(range(cm.shape[0]), range(cm.shape[1])):\n",
    "        plt.text(j, i, format(cm[i, j], fmt),\n",
    "                 horizontalalignment=\"center\",\n",
    "                 color=\"white\" if cm[i, j] > thresh else \"black\")\n",
    "    plt.ylabel('Valores verdadeiros')\n",
    "    plt.xlabel('Preditos')\n",
    "    plt.tight_layout()\n",
    "  except Exception as err:\n",
    "    print('Erro ao plotar grafico: {0}'.format(err))"
   ]
  },
  {
   "cell_type": "markdown",
   "metadata": {
    "id": "ZQp9M42YsCKx"
   },
   "source": [
    "3) Leitura do Dataset gerado"
   ]
  },
  {
   "cell_type": "code",
   "execution_count": 15,
   "metadata": {
    "colab": {
     "base_uri": "https://localhost:8080/",
     "height": 258
    },
    "id": "r8UWTFzMsCK0",
    "outputId": "cfdd4991-59dd-4a8a-b394-fcfe1b3d3106"
   },
   "outputs": [
    {
     "name": "stdout",
     "output_type": "stream",
     "text": [
      "Total de registros:5569\n"
     ]
    },
    {
     "data": {
      "text/html": [
       "<div>\n",
       "<style scoped>\n",
       "    .dataframe tbody tr th:only-of-type {\n",
       "        vertical-align: middle;\n",
       "    }\n",
       "\n",
       "    .dataframe tbody tr th {\n",
       "        vertical-align: top;\n",
       "    }\n",
       "\n",
       "    .dataframe thead th {\n",
       "        text-align: right;\n",
       "    }\n",
       "</style>\n",
       "<table border=\"1\" class=\"dataframe\">\n",
       "  <thead>\n",
       "    <tr style=\"text-align: right;\">\n",
       "      <th></th>\n",
       "      <th>cod_mun_ent</th>\n",
       "      <th>uf</th>\n",
       "      <th>nom_municipio_x</th>\n",
       "      <th>1.1</th>\n",
       "      <th>1.3</th>\n",
       "      <th>1.4</th>\n",
       "      <th>1.5</th>\n",
       "      <th>2.1.1</th>\n",
       "      <th>2.1.2</th>\n",
       "      <th>3.1</th>\n",
       "      <th>3.2.2</th>\n",
       "      <th>3.2.3</th>\n",
       "      <th>3.3</th>\n",
       "      <th>3.4</th>\n",
       "      <th>3.5</th>\n",
       "      <th>4.1</th>\n",
       "      <th>4.2</th>\n",
       "      <th>4.3</th>\n",
       "      <th>4.4</th>\n",
       "      <th>qtd_2018_x</th>\n",
       "      <th>Região</th>\n",
       "      <th>idhm</th>\n",
       "      <th>idhm_renda</th>\n",
       "      <th>soma_capag</th>\n",
       "      <th>media_indicadores</th>\n",
       "      <th>mediana_indicadores</th>\n",
       "      <th>sit_obr</th>\n",
       "    </tr>\n",
       "  </thead>\n",
       "  <tbody>\n",
       "    <tr>\n",
       "      <th>0</th>\n",
       "      <td>520005.0</td>\n",
       "      <td>GO</td>\n",
       "      <td>Abadia de Goi�s</td>\n",
       "      <td>0.0</td>\n",
       "      <td>0.0</td>\n",
       "      <td>0.0</td>\n",
       "      <td>0.0</td>\n",
       "      <td>0.0</td>\n",
       "      <td>0.0</td>\n",
       "      <td>2.0</td>\n",
       "      <td>2.0</td>\n",
       "      <td>2.0</td>\n",
       "      <td>0.0</td>\n",
       "      <td>2.0</td>\n",
       "      <td>2.0</td>\n",
       "      <td>0.0</td>\n",
       "      <td>0.0</td>\n",
       "      <td>0.0</td>\n",
       "      <td>2.0</td>\n",
       "      <td>8583</td>\n",
       "      <td>CO</td>\n",
       "      <td>0.708</td>\n",
       "      <td>0.687</td>\n",
       "      <td>1.9967</td>\n",
       "      <td>0.665567</td>\n",
       "      <td>0.9063</td>\n",
       "      <td>1.0</td>\n",
       "    </tr>\n",
       "    <tr>\n",
       "      <th>1</th>\n",
       "      <td>310010.0</td>\n",
       "      <td>MG</td>\n",
       "      <td>Abadia dos Dourados</td>\n",
       "      <td>0.0</td>\n",
       "      <td>0.0</td>\n",
       "      <td>0.0</td>\n",
       "      <td>0.0</td>\n",
       "      <td>0.0</td>\n",
       "      <td>0.0</td>\n",
       "      <td>0.0</td>\n",
       "      <td>0.0</td>\n",
       "      <td>0.0</td>\n",
       "      <td>0.0</td>\n",
       "      <td>0.0</td>\n",
       "      <td>0.0</td>\n",
       "      <td>0.0</td>\n",
       "      <td>0.0</td>\n",
       "      <td>0.0</td>\n",
       "      <td>0.0</td>\n",
       "      <td>6972</td>\n",
       "      <td>SE</td>\n",
       "      <td>0.689</td>\n",
       "      <td>0.693</td>\n",
       "      <td>1.8503</td>\n",
       "      <td>0.616767</td>\n",
       "      <td>0.7747</td>\n",
       "      <td>0.0</td>\n",
       "    </tr>\n",
       "    <tr>\n",
       "      <th>2</th>\n",
       "      <td>520010.0</td>\n",
       "      <td>GO</td>\n",
       "      <td>Abadi�nia</td>\n",
       "      <td>0.0</td>\n",
       "      <td>0.0</td>\n",
       "      <td>0.0</td>\n",
       "      <td>0.0</td>\n",
       "      <td>0.0</td>\n",
       "      <td>0.0</td>\n",
       "      <td>0.0</td>\n",
       "      <td>0.0</td>\n",
       "      <td>0.0</td>\n",
       "      <td>0.0</td>\n",
       "      <td>0.0</td>\n",
       "      <td>0.0</td>\n",
       "      <td>0.0</td>\n",
       "      <td>0.0</td>\n",
       "      <td>0.0</td>\n",
       "      <td>0.0</td>\n",
       "      <td>19614</td>\n",
       "      <td>CO</td>\n",
       "      <td>0.689</td>\n",
       "      <td>0.671</td>\n",
       "      <td>2.9462</td>\n",
       "      <td>0.982067</td>\n",
       "      <td>0.9592</td>\n",
       "      <td>0.0</td>\n",
       "    </tr>\n",
       "    <tr>\n",
       "      <th>3</th>\n",
       "      <td>310020.0</td>\n",
       "      <td>MG</td>\n",
       "      <td>Abaet�</td>\n",
       "      <td>0.0</td>\n",
       "      <td>0.0</td>\n",
       "      <td>0.0</td>\n",
       "      <td>0.0</td>\n",
       "      <td>0.0</td>\n",
       "      <td>0.0</td>\n",
       "      <td>0.0</td>\n",
       "      <td>0.0</td>\n",
       "      <td>0.0</td>\n",
       "      <td>0.0</td>\n",
       "      <td>0.0</td>\n",
       "      <td>0.0</td>\n",
       "      <td>0.0</td>\n",
       "      <td>0.0</td>\n",
       "      <td>0.0</td>\n",
       "      <td>0.0</td>\n",
       "      <td>23223</td>\n",
       "      <td>SE</td>\n",
       "      <td>0.698</td>\n",
       "      <td>0.720</td>\n",
       "      <td>1.3460</td>\n",
       "      <td>0.448667</td>\n",
       "      <td>0.3102</td>\n",
       "      <td>0.0</td>\n",
       "    </tr>\n",
       "    <tr>\n",
       "      <th>4</th>\n",
       "      <td>150010.0</td>\n",
       "      <td>PA</td>\n",
       "      <td>Abaetetuba</td>\n",
       "      <td>2.0</td>\n",
       "      <td>0.0</td>\n",
       "      <td>0.0</td>\n",
       "      <td>2.0</td>\n",
       "      <td>0.0</td>\n",
       "      <td>0.0</td>\n",
       "      <td>2.0</td>\n",
       "      <td>2.0</td>\n",
       "      <td>2.0</td>\n",
       "      <td>2.0</td>\n",
       "      <td>2.0</td>\n",
       "      <td>2.0</td>\n",
       "      <td>0.0</td>\n",
       "      <td>2.0</td>\n",
       "      <td>0.0</td>\n",
       "      <td>2.0</td>\n",
       "      <td>156292</td>\n",
       "      <td>N</td>\n",
       "      <td>0.628</td>\n",
       "      <td>0.579</td>\n",
       "      <td>0.0000</td>\n",
       "      <td>0.000000</td>\n",
       "      <td>0.0000</td>\n",
       "      <td>2.0</td>\n",
       "    </tr>\n",
       "  </tbody>\n",
       "</table>\n",
       "</div>"
      ],
      "text/plain": [
       "   cod_mun_ent  uf  ... mediana_indicadores  sit_obr\n",
       "0     520005.0  GO  ...              0.9063      1.0\n",
       "1     310010.0  MG  ...              0.7747      0.0\n",
       "2     520010.0  GO  ...              0.9592      0.0\n",
       "3     310020.0  MG  ...              0.3102      0.0\n",
       "4     150010.0  PA  ...              0.0000      2.0\n",
       "\n",
       "[5 rows x 27 columns]"
      ]
     },
     "execution_count": 15,
     "metadata": {
      "tags": []
     },
     "output_type": "execute_result"
    }
   ],
   "source": [
    "dfr_fpm = pd.read_csv('dfr_fpm.csv',sep=',')\n",
    "dfr_fpm.replace(np.nan,0,inplace=True)\n",
    "print('Total de registros:{0}'.format(len(dfr_fpm)))\n",
    "dfr_fpm.head()"
   ]
  },
  {
   "cell_type": "markdown",
   "metadata": {
    "id": "jgVFSj-9sCLH"
   },
   "source": [
    "4) Seleção das colunas utilizadas no Modelo"
   ]
  },
  {
   "cell_type": "code",
   "execution_count": 16,
   "metadata": {
    "id": "qksWexAgsCLK"
   },
   "outputs": [],
   "source": [
    "cols = ['cod_mun_ent',\n",
    "'1.1',\n",
    "'1.3',\n",
    "'1.4',\n",
    "'1.5',\n",
    "'2.1.1',\n",
    "'2.1.2',\n",
    "'3.1',\n",
    "'3.2.2',\n",
    "'3.2.3',\n",
    "'3.3',\n",
    "'3.4',\n",
    "'3.5',\n",
    "'4.1',\n",
    "'4.2',\n",
    "'4.3',\n",
    "'4.4',\n",
    "'qtd_2018_x', #populacao       \n",
    "'idhm',\n",
    "#'idhm_renda',\n",
    "#'soma_capag',        \n",
    "#'media_indicadores',\n",
    "#'mediana_indicadores',\n",
    "'sit_obr']\n",
    "\n",
    "y = dfr_fpm ['sit_obr']\n",
    "x = dfr_fpm [cols[1:-1]]"
   ]
  },
  {
   "cell_type": "markdown",
   "metadata": {
    "id": "XRpJ8dndsCLY"
   },
   "source": [
    "5) Declaração dos Modelos utilizados no experimento"
   ]
  },
  {
   "cell_type": "code",
   "execution_count": 17,
   "metadata": {
    "id": "oEw4gxH1sCLb"
   },
   "outputs": [],
   "source": [
    "k_fold = 5\n",
    "models      = []\n",
    "results     = []\n",
    "names       = []\n",
    "models.append(('NB',        MultinomialNB())) \n",
    "models.append(('LR',        LogisticRegression(C=30.0, class_weight='balanced', solver='newton-cg', multi_class='multinomial', n_jobs=-1, random_state=1024)))\n",
    "models.append(('OneVsRest', OneVsRestClassifier(LinearSVC(random_state=1024))))"
   ]
  },
  {
   "cell_type": "markdown",
   "metadata": {
    "id": "O8X5nvHYsCLq"
   },
   "source": [
    "6) Cross Validation"
   ]
  },
  {
   "cell_type": "code",
   "execution_count": 18,
   "metadata": {
    "id": "sLEwj7FysCLu"
   },
   "outputs": [],
   "source": [
    "X_train,x_test,Y_train,y_test = train_test_split(x,y,shuffle=True,random_state = 1024)"
   ]
  },
  {
   "cell_type": "markdown",
   "metadata": {
    "id": "01WZKVoysCL-"
   },
   "source": [
    "7) Treinamento"
   ]
  },
  {
   "cell_type": "code",
   "execution_count": 19,
   "metadata": {
    "colab": {
     "base_uri": "https://localhost:8080/",
     "height": 102
    },
    "id": "OvsBZyIasCMA",
    "outputId": "2bfbe7e4-067b-400a-dd0f-d7080ee46e1f"
   },
   "outputs": [
    {
     "name": "stdout",
     "output_type": "stream",
     "text": [
      "Inicio do Treino...\n",
      "Modelo:NB               Média :0.67366  STD:0.005 Tempo execucao:0.0524\n",
      "Modelo:LR               Média :0.98025  STD:0.01338 Tempo execucao:10.5208\n",
      "Modelo:OneVsRest        Média :0.24405  STD:0.03221 Tempo execucao:13.7521\n",
      "Fim do Treino - Tempo gasto:13.753047704696655\n"
     ]
    }
   ],
   "source": [
    "print('Inicio do Treino...')\n",
    "#df_x_train_vec = pd.DataFrame(x_train_vec.toarray(), columns=vectorizer.get_feature_names())\n",
    "k_fold=5\n",
    "start=time.time() \n",
    "for nme_model, model in models:\n",
    "  model.fit(X_train,Y_train)\n",
    "  metrics_k_fold = cross_val_score(model, X_train, Y_train, cv=k_fold, scoring='f1_macro')   \n",
    "  elapsed = time.time() - start\n",
    "  results.append(metrics_k_fold)\n",
    "  names.append(nme_model)\n",
    "  print('Modelo:{0} Média :{1}  STD:{2} Tempo execucao:{3}'.format(nme_model.ljust(16,' '),round(metrics_k_fold.mean(),5),round(metrics_k_fold.std(),5),round(elapsed,4)))  \n",
    "print('Fim do Treino - Tempo gasto:{0}'.format(time.time() - start))"
   ]
  },
  {
   "cell_type": "markdown",
   "metadata": {
    "id": "-biZYFBBsCMO"
   },
   "source": [
    "8) Teste"
   ]
  },
  {
   "cell_type": "code",
   "execution_count": 20,
   "metadata": {
    "colab": {
     "base_uri": "https://localhost:8080/",
     "height": 68
    },
    "id": "T3aev663sCMR",
    "outputId": "86fa4bde-55de-4238-d6b3-53bb889aa260"
   },
   "outputs": [
    {
     "name": "stdout",
     "output_type": "stream",
     "text": [
      "Modelo:NB                    Score:0.6996  Tempo execucao:0.008\n",
      "Modelo:LR                    Score:1.0  Tempo execucao:0.0127\n",
      "Modelo:OneVsRest             Score:0.2343  Tempo execucao:0.0195\n"
     ]
    }
   ],
   "source": [
    "metric=[]\n",
    "start = time.time()\n",
    "for name, model in models:\n",
    "  y = model.predict(x_test)\n",
    "  score = round(f1_score(y_test, y, pos_label=1, average='macro'),4)  \n",
    "  elapsed = time.time() - start\n",
    "  metric.append(score)\n",
    "  print('Modelo:{0}  Score:{1}  Tempo execucao:{2}'.format(name.ljust(20,' '),round(score,5),round(elapsed,4)))"
   ]
  },
  {
   "cell_type": "markdown",
   "metadata": {
    "id": "A19EuqQzsCMe"
   },
   "source": [
    "9) Avaliação do Modelo por meio da Técnica Naive Bayes"
   ]
  },
  {
   "cell_type": "code",
   "execution_count": 21,
   "metadata": {
    "colab": {
     "base_uri": "https://localhost:8080/",
     "height": 34
    },
    "id": "r7Qu7-EpsCMg",
    "outputId": "20134e5a-ec8d-4cfe-e469-c722a7458751"
   },
   "outputs": [
    {
     "data": {
      "text/plain": [
       "MultinomialNB(alpha=1.0, class_prior=None, fit_prior=True)"
      ]
     },
     "execution_count": 21,
     "metadata": {
      "tags": []
     },
     "output_type": "execute_result"
    }
   ],
   "source": [
    "model=models[0][1]\n",
    "model"
   ]
  },
  {
   "cell_type": "code",
   "execution_count": 22,
   "metadata": {
    "colab": {
     "base_uri": "https://localhost:8080/",
     "height": 369
    },
    "id": "VV68zHbosCMu",
    "outputId": "36876216-240e-4bf7-ece6-35932e86a5b5"
   },
   "outputs": [
    {
     "data": {
      "image/png": "[encoded data removed]",
      "text/plain": [
       "<Figure size 720x360 with 2 Axes>"
      ]
     },
     "metadata": {
      "needs_background": "light",
      "tags": []
     },
     "output_type": "display_data"
    }
   ],
   "source": [
    "fig = plt.figure(figsize=(10, 5)) \n",
    "yp = model.predict(x_test)\n",
    "cm=confusion_matrix(y_test, yp)\n",
    "np.set_printoptions(precision=2)\n",
    "plot_confusion_matrix(cm, classes=['regular', 'pendente', 'irregular'])"
   ]
  },
  {
   "cell_type": "code",
   "execution_count": 23,
   "metadata": {
    "colab": {
     "base_uri": "https://localhost:8080/",
     "height": 187
    },
    "id": "B9QyzdPmhRSj",
    "outputId": "5c0797a3-5bb9-402b-f353-a2f22f6db413"
   },
   "outputs": [
    {
     "name": "stdout",
     "output_type": "stream",
     "text": [
      "              precision    recall  f1-score   support\n",
      "\n",
      "         0.0       0.97      0.99      0.98       578\n",
      "         1.0       0.97      0.69      0.81       755\n",
      "         2.0       0.19      0.85      0.31        60\n",
      "\n",
      "    accuracy                           0.82      1393\n",
      "   macro avg       0.71      0.84      0.70      1393\n",
      "weighted avg       0.94      0.82      0.86      1393\n",
      "\n"
     ]
    }
   ],
   "source": [
    "print(classification_report(y_test, yp))"
   ]
  },
  {
   "cell_type": "markdown",
   "metadata": {
    "id": "vC3CvoehsCM_"
   },
   "source": [
    "10) Avaliação do Modelo por meio da Técnica Regressão Logística"
   ]
  },
  {
   "cell_type": "code",
   "execution_count": 24,
   "metadata": {
    "colab": {
     "base_uri": "https://localhost:8080/",
     "height": 102
    },
    "id": "sHrPyB_MsCNC",
    "outputId": "0539066d-562b-405b-d982-5ccfbcce4333"
   },
   "outputs": [
    {
     "data": {
      "text/plain": [
       "LogisticRegression(C=30.0, class_weight='balanced', dual=False,\n",
       "                   fit_intercept=True, intercept_scaling=1, l1_ratio=None,\n",
       "                   max_iter=100, multi_class='multinomial', n_jobs=-1,\n",
       "                   penalty='l2', random_state=1024, solver='newton-cg',\n",
       "                   tol=0.0001, verbose=0, warm_start=False)"
      ]
     },
     "execution_count": 24,
     "metadata": {
      "tags": []
     },
     "output_type": "execute_result"
    }
   ],
   "source": [
    "model=models[1][1]\n",
    "model"
   ]
  },
  {
   "cell_type": "code",
   "execution_count": 25,
   "metadata": {
    "colab": {
     "base_uri": "https://localhost:8080/",
     "height": 369
    },
    "id": "_oXRPMtUsCNR",
    "outputId": "f322d517-ee90-42fc-ad74-359bee07020d",
    "scrolled": true
   },
   "outputs": [
    {
     "data": {
      "image/png": "[encoded data removed]",
      "text/plain": [
       "<Figure size 720x360 with 2 Axes>"
      ]
     },
     "metadata": {
      "needs_background": "light",
      "tags": []
     },
     "output_type": "display_data"
    }
   ],
   "source": [
    "fig = plt.figure(figsize=(10, 5)) \n",
    "yp = model.predict(x_test)\n",
    "cm = confusion_matrix(y_test, yp)\n",
    "np.set_printoptions(precision=2)\n",
    "plot_confusion_matrix(cm, classes=['regular', 'pendente', 'irregular'])"
   ]
  },
  {
   "cell_type": "code",
   "execution_count": 27,
   "metadata": {
    "colab": {
     "base_uri": "https://localhost:8080/",
     "height": 187
    },
    "id": "a0YE5sNXhaQu",
    "outputId": "3db49bde-f074-4259-f64e-23a25f042528"
   },
   "outputs": [
    {
     "name": "stdout",
     "output_type": "stream",
     "text": [
      "              precision    recall  f1-score   support\n",
      "\n",
      "         0.0       1.00      1.00      1.00       578\n",
      "         1.0       1.00      1.00      1.00       755\n",
      "         2.0       1.00      1.00      1.00        60\n",
      "\n",
      "    accuracy                           1.00      1393\n",
      "   macro avg       1.00      1.00      1.00      1393\n",
      "weighted avg       1.00      1.00      1.00      1393\n",
      "\n"
     ]
    }
   ],
   "source": [
    "print(classification_report(y_test, yp))"
   ]
  },
  {
   "cell_type": "markdown",
   "metadata": {
    "id": "FS1vOCZVsCNf"
   },
   "source": [
    "11) Avaliação do Modelo por meio da Técnica One-vs-Rest (OVR)"
   ]
  },
  {
   "cell_type": "code",
   "execution_count": 26,
   "metadata": {
    "colab": {
     "base_uri": "https://localhost:8080/",
     "height": 136
    },
    "id": "6nxGzksvsCNh",
    "outputId": "be511880-ad5f-44d8-8d9d-375b678ba649"
   },
   "outputs": [
    {
     "data": {
      "text/plain": [
       "OneVsRestClassifier(estimator=LinearSVC(C=1.0, class_weight=None, dual=True,\n",
       "                                        fit_intercept=True, intercept_scaling=1,\n",
       "                                        loss='squared_hinge', max_iter=1000,\n",
       "                                        multi_class='ovr', penalty='l2',\n",
       "                                        random_state=1024, tol=0.0001,\n",
       "                                        verbose=0),\n",
       "                    n_jobs=None)"
      ]
     },
     "execution_count": 26,
     "metadata": {
      "tags": []
     },
     "output_type": "execute_result"
    }
   ],
   "source": [
    "model=models[2][1]\n",
    "model"
   ]
  },
  {
   "cell_type": "code",
   "execution_count": 29,
   "metadata": {
    "colab": {
     "base_uri": "https://localhost:8080/",
     "height": 369
    },
    "id": "VD7tL5KvsCNv",
    "outputId": "f5f62237-3dc0-42a3-dddc-e91c380c7f77"
   },
   "outputs": [
    {
     "data": {
      "image/png": "[encoded data removed]",
      "text/plain": [
       "<Figure size 720x360 with 2 Axes>"
      ]
     },
     "metadata": {
      "needs_background": "light",
      "tags": []
     },
     "output_type": "display_data"
    }
   ],
   "source": [
    "fig = plt.figure(figsize=(10, 5)) \n",
    "yp = model.predict(x_test)\n",
    "cm=confusion_matrix(y_test, yp)\n",
    "np.set_printoptions(precision=2)\n",
    "plot_confusion_matrix(cm, classes=['regular', 'pendente', 'irregular'])"
   ]
  },
  {
   "cell_type": "code",
   "execution_count": 30,
   "metadata": {
    "colab": {
     "base_uri": "https://localhost:8080/",
     "height": 187
    },
    "id": "by2t1edZhneF",
    "outputId": "c04d152c-cdda-4133-aa35-a61c78e697c4"
   },
   "outputs": [
    {
     "name": "stdout",
     "output_type": "stream",
     "text": [
      "              precision    recall  f1-score   support\n",
      "\n",
      "         0.0       0.00      0.00      0.00       578\n",
      "         1.0       0.54      1.00      0.70       755\n",
      "         2.0       0.00      0.00      0.00        60\n",
      "\n",
      "    accuracy                           0.54      1393\n",
      "   macro avg       0.18      0.33      0.23      1393\n",
      "weighted avg       0.29      0.54      0.38      1393\n",
      "\n"
     ]
    }
   ],
   "source": [
    "print(classification_report(y_test, yp))"
   ]
  },
  {
   "cell_type": "code",
   "execution_count": 31,
   "metadata": {
    "colab": {
     "base_uri": "https://localhost:8080/",
     "height": 102
    },
    "id": "Y513cURvsCN7",
    "outputId": "a6b096ef-7455-4022-ffc4-d968293c289b"
   },
   "outputs": [
    {
     "data": {
      "text/plain": [
       "LogisticRegression(C=30.0, class_weight='balanced', dual=False,\n",
       "                   fit_intercept=True, intercept_scaling=1, l1_ratio=None,\n",
       "                   max_iter=100, multi_class='multinomial', n_jobs=-1,\n",
       "                   penalty='l2', random_state=1024, solver='newton-cg',\n",
       "                   tol=0.0001, verbose=0, warm_start=False)"
      ]
     },
     "execution_count": 31,
     "metadata": {
      "tags": []
     },
     "output_type": "execute_result"
    }
   ],
   "source": [
    "model_win = models[1][1]\n",
    "model_win"
   ]
  },
  {
   "cell_type": "code",
   "execution_count": 32,
   "metadata": {
    "colab": {
     "base_uri": "https://localhost:8080/",
     "height": 323
    },
    "id": "DEoMlzHdEh-5",
    "outputId": "0dae7e8b-9a1f-411c-dcd7-f1baf7b9268e"
   },
   "outputs": [
    {
     "data": {
      "text/plain": [
       "['1.1',\n",
       " '1.3',\n",
       " '1.4',\n",
       " '1.5',\n",
       " '2.1.1',\n",
       " '2.1.2',\n",
       " '3.1',\n",
       " '3.2.2',\n",
       " '3.2.3',\n",
       " '3.3',\n",
       " '3.4',\n",
       " '3.5',\n",
       " '4.1',\n",
       " '4.2',\n",
       " '4.3',\n",
       " '4.4',\n",
       " 'qtd_2018_x',\n",
       " 'idhm']"
      ]
     },
     "execution_count": 32,
     "metadata": {
      "tags": []
     },
     "output_type": "execute_result"
    }
   ],
   "source": [
    "variaveis= x.columns.to_list()\n",
    "variaveis"
   ]
  },
  {
   "cell_type": "markdown",
   "metadata": {
    "id": "tkwDafoWFccj"
   },
   "source": [
    "Validação"
   ]
  },
  {
   "cell_type": "code",
   "execution_count": 33,
   "metadata": {
    "colab": {
     "base_uri": "https://localhost:8080/",
     "height": 34
    },
    "id": "8Xt6opfpDu_9",
    "outputId": "ada6bfed-7e24-4d33-feaf-fc4a00f96f60"
   },
   "outputs": [
    {
     "data": {
      "text/plain": [
       "1.0"
      ]
     },
     "execution_count": 33,
     "metadata": {
      "tags": []
     },
     "output_type": "execute_result"
    }
   ],
   "source": [
    "novo_munic = [[0,1,2,2,1,1,1,0,0,1,2,2,1,1,1,0,350000, 0.654]]\n",
    "y = model_win.predict(np.array(novo_munic))\n",
    "y[0]"
   ]
  },
  {
   "cell_type": "markdown",
   "metadata": {
    "id": "PAYWnVvlsCOI"
   },
   "source": [
    "12) CLUSTERIZAÇÃO - AGRUPAMENTO:"
   ]
  },
  {
   "cell_type": "markdown",
   "metadata": {
    "id": "UtRTG_0qsCOK"
   },
   "source": [
    "12.1) Seleção das colunas utilizadas no Modelo"
   ]
  },
  {
   "cell_type": "code",
   "execution_count": 34,
   "metadata": {
    "id": "02Mq-cbrsCON"
   },
   "outputs": [],
   "source": [
    "cols = ['cod_mun_ent',\n",
    "'qtd_2018_x', #populacao\n",
    "'idhm',\n",
    "'idhm_renda',\n",
    "'soma_capag',\n",
    "'media_indicadores',\n",
    "'mediana_indicadores',\n",
    "'sit_obr'] \n",
    "y= dfr_fpm['sit_obr']\n",
    "x= dfr_fpm[cols[1:-1]]"
   ]
  },
  {
   "cell_type": "markdown",
   "metadata": {
    "id": "LNcEWUvXsCOa"
   },
   "source": [
    "12.2) Pré-agrupamento - Normalização"
   ]
  },
  {
   "cell_type": "code",
   "execution_count": 35,
   "metadata": {
    "id": "9igJYXedsCOc"
   },
   "outputs": [],
   "source": [
    "scaler = StandardScaler()\n",
    "dfr_fpm_sca = scaler.fit_transform(x)"
   ]
  },
  {
   "cell_type": "markdown",
   "metadata": {
    "id": "llSW3pfTsCOn"
   },
   "source": [
    "12.3) Agrupamento"
   ]
  },
  {
   "cell_type": "code",
   "execution_count": 36,
   "metadata": {
    "id": "hP6Ikh70sCOp"
   },
   "outputs": [],
   "source": [
    "n=3"
   ]
  },
  {
   "cell_type": "code",
   "execution_count": 37,
   "metadata": {
    "colab": {
     "base_uri": "https://localhost:8080/",
     "height": 68
    },
    "id": "36nN31dJsCO2",
    "outputId": "b18bdb9f-abf3-46a3-fcb5-1eaf4acb9845"
   },
   "outputs": [
    {
     "data": {
      "text/plain": [
       "KMeans(algorithm='auto', copy_x=True, init='k-means++', max_iter=300,\n",
       "       n_clusters=3, n_init=10, n_jobs=None, precompute_distances='auto',\n",
       "       random_state=None, tol=0.0001, verbose=0)"
      ]
     },
     "execution_count": 37,
     "metadata": {
      "tags": []
     },
     "output_type": "execute_result"
    }
   ],
   "source": [
    "model_km = kmeans(init='k-means++', n_clusters=n, n_init=10)\n",
    "model_km.fit(x)"
   ]
  },
  {
   "cell_type": "markdown",
   "metadata": {
    "id": "EtmuQGJ7sCPC"
   },
   "source": [
    "12.4) Centróides dos Grupos"
   ]
  },
  {
   "cell_type": "code",
   "execution_count": 38,
   "metadata": {
    "colab": {
     "base_uri": "https://localhost:8080/",
     "height": 85
    },
    "id": "A364OqTtsCPE",
    "outputId": "e73f20dd-77be-4f15-f04a-135d8fd74a5e"
   },
   "outputs": [
    {
     "name": "stdout",
     "output_type": "stream",
     "text": [
      "[[3.86e+04 6.58e-01 6.42e-01 2.19e+11 7.31e+10 4.88e-01]\n",
      " [9.10e+03 6.72e-01 6.93e-01 9.02e+15 3.01e+15 7.72e-02]\n",
      " [1.03e+04 7.27e-01 6.95e-01 1.14e+16 3.80e+15 1.77e-01]]\n",
      "[0 0 0 ... 0 0 0]\n"
     ]
    }
   ],
   "source": [
    "centroids = model_km.cluster_centers_\n",
    "labels = model_km.labels_\n",
    "print(centroids)\n",
    "print(labels)"
   ]
  },
  {
   "cell_type": "markdown",
   "metadata": {
    "id": "l_FwQ14bsCPS"
   },
   "source": [
    "12.5) Avaliação dos k grupos pelo método de Elbow"
   ]
  },
  {
   "cell_type": "code",
   "execution_count": 39,
   "metadata": {
    "colab": {
     "base_uri": "https://localhost:8080/",
     "height": 628
    },
    "id": "dQTH7wW6sCPV",
    "outputId": "574dba84-9de7-46e5-dba1-90ca4f7271f3"
   },
   "outputs": [
    {
     "name": "stdout",
     "output_type": "stream",
     "text": [
      "1 3.2627210102549044e+32\n",
      "2 5.856892131208392e+30\n",
      "3 1.6853230202657765e+30\n",
      "4 2.9033057691355567e+28\n",
      "5 2.9033057691355444e+28\n",
      "6 2.903305769135545e+28\n",
      "7 2.903305769135542e+28\n",
      "8 2.903305769135544e+28\n",
      "9 2.903305769135547e+28\n",
      "10 2.9033057691355426e+28\n"
     ]
    },
    {
     "data": {
      "image/png": "[encoded data removed]",
      "text/plain": [
       "<Figure size 864x504 with 1 Axes>"
      ]
     },
     "metadata": {
      "needs_background": "light",
      "tags": []
     },
     "output_type": "display_data"
    }
   ],
   "source": [
    "plt.figure(figsize=(12, 7))\n",
    "wcss = []\n",
    "for i in range(1, 11):\n",
    "    kmeans_elbow = kmeans(n_clusters = i, init = 'random')\n",
    "    kmeans_elbow.fit(x)\n",
    "    print(i,kmeans_elbow.inertia_)\n",
    "    wcss.append(kmeans_elbow.inertia_)  \n",
    "plt.plot(range(1, 11), wcss)\n",
    "plt.title('O Metodo Elbow')\n",
    "plt.xlabel('Numero de Clusters')\n",
    "plt.ylabel('WSS') #within cluster sum of squares\n",
    "plt.show()"
   ]
  },
  {
   "cell_type": "markdown",
   "metadata": {
    "id": "0xMnnRHqsCPm"
   },
   "source": [
    "12.6) Distribuição dos Grupos"
   ]
  },
  {
   "cell_type": "code",
   "execution_count": 40,
   "metadata": {
    "id": "npwSWuJhsCPp"
   },
   "outputs": [],
   "source": [
    "dfr_fpm['grupos'] = np.array(labels)"
   ]
  },
  {
   "cell_type": "code",
   "execution_count": 41,
   "metadata": {
    "colab": {
     "base_uri": "https://localhost:8080/",
     "height": 85
    },
    "id": "eBMbhOldsCP3",
    "outputId": "8adf0660-c350-471c-fa5c-91c2502d879f"
   },
   "outputs": [
    {
     "data": {
      "text/plain": [
       "0    5566\n",
       "1       2\n",
       "2       1\n",
       "Name: grupos, dtype: int64"
      ]
     },
     "execution_count": 41,
     "metadata": {
      "tags": []
     },
     "output_type": "execute_result"
    }
   ],
   "source": [
    "dfr_fpm.grupos.value_counts()"
   ]
  },
  {
   "cell_type": "code",
   "execution_count": 42,
   "metadata": {
    "colab": {
     "base_uri": "https://localhost:8080/",
     "height": 188
    },
    "id": "LvWIFqumsCQF",
    "outputId": "cd1b1d9f-086a-4dab-b1e3-98f3da0f652b"
   },
   "outputs": [
    {
     "data": {
      "text/plain": [
       "<matplotlib.axes._subplots.AxesSubplot at 0x7f2151a6d438>"
      ]
     },
     "execution_count": 42,
     "metadata": {
      "tags": []
     },
     "output_type": "execute_result"
    },
    {
     "data": {
      "image/png": "[encoded data removed]",
      "text/plain": [
       "<Figure size 504x144 with 1 Axes>"
      ]
     },
     "metadata": {
      "needs_background": "light",
      "tags": []
     },
     "output_type": "display_data"
    }
   ],
   "source": [
    "plt.figure(figsize=(7, 2))\n",
    "sb.countplot(x ='grupos', data = dfr_fpm)"
   ]
  },
  {
   "cell_type": "code",
   "execution_count": 43,
   "metadata": {
    "colab": {
     "base_uri": "https://localhost:8080/",
     "height": 473
    },
    "id": "NDOGUFVvsCQQ",
    "outputId": "aec3ea75-9173-44d7-ef0e-f644d9c48eab"
   },
   "outputs": [
    {
     "name": "stdout",
     "output_type": "stream",
     "text": [
      "Total de Municípios do Grupo 0:5566\n"
     ]
    },
    {
     "data": {
      "text/html": [
       "<div>\n",
       "<style scoped>\n",
       "    .dataframe tbody tr th:only-of-type {\n",
       "        vertical-align: middle;\n",
       "    }\n",
       "\n",
       "    .dataframe tbody tr th {\n",
       "        vertical-align: top;\n",
       "    }\n",
       "\n",
       "    .dataframe thead th {\n",
       "        text-align: right;\n",
       "    }\n",
       "</style>\n",
       "<table border=\"1\" class=\"dataframe\">\n",
       "  <thead>\n",
       "    <tr style=\"text-align: right;\">\n",
       "      <th></th>\n",
       "      <th>cod_mun_ent</th>\n",
       "      <th>uf</th>\n",
       "      <th>nom_municipio_x</th>\n",
       "      <th>1.1</th>\n",
       "      <th>1.3</th>\n",
       "      <th>1.4</th>\n",
       "      <th>1.5</th>\n",
       "      <th>2.1.1</th>\n",
       "      <th>2.1.2</th>\n",
       "      <th>3.1</th>\n",
       "      <th>3.2.2</th>\n",
       "      <th>3.2.3</th>\n",
       "      <th>3.3</th>\n",
       "      <th>3.4</th>\n",
       "      <th>3.5</th>\n",
       "      <th>4.1</th>\n",
       "      <th>4.2</th>\n",
       "      <th>4.3</th>\n",
       "      <th>4.4</th>\n",
       "      <th>qtd_2018_x</th>\n",
       "      <th>Região</th>\n",
       "      <th>idhm</th>\n",
       "      <th>idhm_renda</th>\n",
       "      <th>soma_capag</th>\n",
       "      <th>media_indicadores</th>\n",
       "      <th>mediana_indicadores</th>\n",
       "      <th>sit_obr</th>\n",
       "      <th>grupos</th>\n",
       "    </tr>\n",
       "  </thead>\n",
       "  <tbody>\n",
       "    <tr>\n",
       "      <th>0</th>\n",
       "      <td>520005.0</td>\n",
       "      <td>GO</td>\n",
       "      <td>Abadia de Goi�s</td>\n",
       "      <td>0.0</td>\n",
       "      <td>0.0</td>\n",
       "      <td>0.0</td>\n",
       "      <td>0.0</td>\n",
       "      <td>0.0</td>\n",
       "      <td>0.0</td>\n",
       "      <td>2.0</td>\n",
       "      <td>2.0</td>\n",
       "      <td>2.0</td>\n",
       "      <td>0.0</td>\n",
       "      <td>2.0</td>\n",
       "      <td>2.0</td>\n",
       "      <td>0.0</td>\n",
       "      <td>0.0</td>\n",
       "      <td>0.0</td>\n",
       "      <td>2.0</td>\n",
       "      <td>8583</td>\n",
       "      <td>CO</td>\n",
       "      <td>0.708</td>\n",
       "      <td>0.687</td>\n",
       "      <td>1.9967</td>\n",
       "      <td>0.665567</td>\n",
       "      <td>0.9063</td>\n",
       "      <td>1.0</td>\n",
       "      <td>0</td>\n",
       "    </tr>\n",
       "    <tr>\n",
       "      <th>1</th>\n",
       "      <td>310010.0</td>\n",
       "      <td>MG</td>\n",
       "      <td>Abadia dos Dourados</td>\n",
       "      <td>0.0</td>\n",
       "      <td>0.0</td>\n",
       "      <td>0.0</td>\n",
       "      <td>0.0</td>\n",
       "      <td>0.0</td>\n",
       "      <td>0.0</td>\n",
       "      <td>0.0</td>\n",
       "      <td>0.0</td>\n",
       "      <td>0.0</td>\n",
       "      <td>0.0</td>\n",
       "      <td>0.0</td>\n",
       "      <td>0.0</td>\n",
       "      <td>0.0</td>\n",
       "      <td>0.0</td>\n",
       "      <td>0.0</td>\n",
       "      <td>0.0</td>\n",
       "      <td>6972</td>\n",
       "      <td>SE</td>\n",
       "      <td>0.689</td>\n",
       "      <td>0.693</td>\n",
       "      <td>1.8503</td>\n",
       "      <td>0.616767</td>\n",
       "      <td>0.7747</td>\n",
       "      <td>0.0</td>\n",
       "      <td>0</td>\n",
       "    </tr>\n",
       "    <tr>\n",
       "      <th>2</th>\n",
       "      <td>520010.0</td>\n",
       "      <td>GO</td>\n",
       "      <td>Abadi�nia</td>\n",
       "      <td>0.0</td>\n",
       "      <td>0.0</td>\n",
       "      <td>0.0</td>\n",
       "      <td>0.0</td>\n",
       "      <td>0.0</td>\n",
       "      <td>0.0</td>\n",
       "      <td>0.0</td>\n",
       "      <td>0.0</td>\n",
       "      <td>0.0</td>\n",
       "      <td>0.0</td>\n",
       "      <td>0.0</td>\n",
       "      <td>0.0</td>\n",
       "      <td>0.0</td>\n",
       "      <td>0.0</td>\n",
       "      <td>0.0</td>\n",
       "      <td>0.0</td>\n",
       "      <td>19614</td>\n",
       "      <td>CO</td>\n",
       "      <td>0.689</td>\n",
       "      <td>0.671</td>\n",
       "      <td>2.9462</td>\n",
       "      <td>0.982067</td>\n",
       "      <td>0.9592</td>\n",
       "      <td>0.0</td>\n",
       "      <td>0</td>\n",
       "    </tr>\n",
       "    <tr>\n",
       "      <th>3</th>\n",
       "      <td>310020.0</td>\n",
       "      <td>MG</td>\n",
       "      <td>Abaet�</td>\n",
       "      <td>0.0</td>\n",
       "      <td>0.0</td>\n",
       "      <td>0.0</td>\n",
       "      <td>0.0</td>\n",
       "      <td>0.0</td>\n",
       "      <td>0.0</td>\n",
       "      <td>0.0</td>\n",
       "      <td>0.0</td>\n",
       "      <td>0.0</td>\n",
       "      <td>0.0</td>\n",
       "      <td>0.0</td>\n",
       "      <td>0.0</td>\n",
       "      <td>0.0</td>\n",
       "      <td>0.0</td>\n",
       "      <td>0.0</td>\n",
       "      <td>0.0</td>\n",
       "      <td>23223</td>\n",
       "      <td>SE</td>\n",
       "      <td>0.698</td>\n",
       "      <td>0.720</td>\n",
       "      <td>1.3460</td>\n",
       "      <td>0.448667</td>\n",
       "      <td>0.3102</td>\n",
       "      <td>0.0</td>\n",
       "      <td>0</td>\n",
       "    </tr>\n",
       "    <tr>\n",
       "      <th>4</th>\n",
       "      <td>150010.0</td>\n",
       "      <td>PA</td>\n",
       "      <td>Abaetetuba</td>\n",
       "      <td>2.0</td>\n",
       "      <td>0.0</td>\n",
       "      <td>0.0</td>\n",
       "      <td>2.0</td>\n",
       "      <td>0.0</td>\n",
       "      <td>0.0</td>\n",
       "      <td>2.0</td>\n",
       "      <td>2.0</td>\n",
       "      <td>2.0</td>\n",
       "      <td>2.0</td>\n",
       "      <td>2.0</td>\n",
       "      <td>2.0</td>\n",
       "      <td>0.0</td>\n",
       "      <td>2.0</td>\n",
       "      <td>0.0</td>\n",
       "      <td>2.0</td>\n",
       "      <td>156292</td>\n",
       "      <td>N</td>\n",
       "      <td>0.628</td>\n",
       "      <td>0.579</td>\n",
       "      <td>0.0000</td>\n",
       "      <td>0.000000</td>\n",
       "      <td>0.0000</td>\n",
       "      <td>2.0</td>\n",
       "      <td>0</td>\n",
       "    </tr>\n",
       "    <tr>\n",
       "      <th>...</th>\n",
       "      <td>...</td>\n",
       "      <td>...</td>\n",
       "      <td>...</td>\n",
       "      <td>...</td>\n",
       "      <td>...</td>\n",
       "      <td>...</td>\n",
       "      <td>...</td>\n",
       "      <td>...</td>\n",
       "      <td>...</td>\n",
       "      <td>...</td>\n",
       "      <td>...</td>\n",
       "      <td>...</td>\n",
       "      <td>...</td>\n",
       "      <td>...</td>\n",
       "      <td>...</td>\n",
       "      <td>...</td>\n",
       "      <td>...</td>\n",
       "      <td>...</td>\n",
       "      <td>...</td>\n",
       "      <td>...</td>\n",
       "      <td>...</td>\n",
       "      <td>...</td>\n",
       "      <td>...</td>\n",
       "      <td>...</td>\n",
       "      <td>...</td>\n",
       "      <td>...</td>\n",
       "      <td>...</td>\n",
       "      <td>...</td>\n",
       "    </tr>\n",
       "    <tr>\n",
       "      <th>5564</th>\n",
       "      <td>293360.0</td>\n",
       "      <td>BA</td>\n",
       "      <td>Xique-Xique</td>\n",
       "      <td>0.0</td>\n",
       "      <td>0.0</td>\n",
       "      <td>0.0</td>\n",
       "      <td>0.0</td>\n",
       "      <td>0.0</td>\n",
       "      <td>0.0</td>\n",
       "      <td>0.0</td>\n",
       "      <td>0.0</td>\n",
       "      <td>0.0</td>\n",
       "      <td>0.0</td>\n",
       "      <td>0.0</td>\n",
       "      <td>0.0</td>\n",
       "      <td>0.0</td>\n",
       "      <td>0.0</td>\n",
       "      <td>0.0</td>\n",
       "      <td>0.0</td>\n",
       "      <td>46440</td>\n",
       "      <td>NE</td>\n",
       "      <td>0.585</td>\n",
       "      <td>0.563</td>\n",
       "      <td>7.3226</td>\n",
       "      <td>2.440867</td>\n",
       "      <td>1.0266</td>\n",
       "      <td>0.0</td>\n",
       "      <td>0</td>\n",
       "    </tr>\n",
       "    <tr>\n",
       "      <th>5565</th>\n",
       "      <td>251740.0</td>\n",
       "      <td>PB</td>\n",
       "      <td>Zabel�</td>\n",
       "      <td>2.0</td>\n",
       "      <td>0.0</td>\n",
       "      <td>0.0</td>\n",
       "      <td>0.0</td>\n",
       "      <td>0.0</td>\n",
       "      <td>0.0</td>\n",
       "      <td>0.0</td>\n",
       "      <td>0.0</td>\n",
       "      <td>2.0</td>\n",
       "      <td>0.0</td>\n",
       "      <td>0.0</td>\n",
       "      <td>0.0</td>\n",
       "      <td>0.0</td>\n",
       "      <td>0.0</td>\n",
       "      <td>0.0</td>\n",
       "      <td>0.0</td>\n",
       "      <td>2225</td>\n",
       "      <td>NE</td>\n",
       "      <td>0.623</td>\n",
       "      <td>0.567</td>\n",
       "      <td>1.1971</td>\n",
       "      <td>0.399033</td>\n",
       "      <td>0.1567</td>\n",
       "      <td>1.0</td>\n",
       "      <td>0</td>\n",
       "    </tr>\n",
       "    <tr>\n",
       "      <th>5566</th>\n",
       "      <td>355715.0</td>\n",
       "      <td>SP</td>\n",
       "      <td>Zacarias</td>\n",
       "      <td>0.0</td>\n",
       "      <td>0.0</td>\n",
       "      <td>0.0</td>\n",
       "      <td>0.0</td>\n",
       "      <td>0.0</td>\n",
       "      <td>0.0</td>\n",
       "      <td>0.0</td>\n",
       "      <td>0.0</td>\n",
       "      <td>0.0</td>\n",
       "      <td>0.0</td>\n",
       "      <td>0.0</td>\n",
       "      <td>0.0</td>\n",
       "      <td>0.0</td>\n",
       "      <td>0.0</td>\n",
       "      <td>0.0</td>\n",
       "      <td>0.0</td>\n",
       "      <td>2684</td>\n",
       "      <td>SE</td>\n",
       "      <td>0.729</td>\n",
       "      <td>0.695</td>\n",
       "      <td>0.8510</td>\n",
       "      <td>0.283667</td>\n",
       "      <td>0.0021</td>\n",
       "      <td>0.0</td>\n",
       "      <td>0</td>\n",
       "    </tr>\n",
       "    <tr>\n",
       "      <th>5567</th>\n",
       "      <td>211400.0</td>\n",
       "      <td>MA</td>\n",
       "      <td>Z� Doca</td>\n",
       "      <td>0.0</td>\n",
       "      <td>0.0</td>\n",
       "      <td>0.0</td>\n",
       "      <td>0.0</td>\n",
       "      <td>0.0</td>\n",
       "      <td>0.0</td>\n",
       "      <td>0.0</td>\n",
       "      <td>0.0</td>\n",
       "      <td>2.0</td>\n",
       "      <td>0.0</td>\n",
       "      <td>2.0</td>\n",
       "      <td>0.0</td>\n",
       "      <td>0.0</td>\n",
       "      <td>0.0</td>\n",
       "      <td>0.0</td>\n",
       "      <td>0.0</td>\n",
       "      <td>51471</td>\n",
       "      <td>NE</td>\n",
       "      <td>0.595</td>\n",
       "      <td>0.559</td>\n",
       "      <td>1.0801</td>\n",
       "      <td>0.360033</td>\n",
       "      <td>0.2006</td>\n",
       "      <td>1.0</td>\n",
       "      <td>0</td>\n",
       "    </tr>\n",
       "    <tr>\n",
       "      <th>5568</th>\n",
       "      <td>421985.0</td>\n",
       "      <td>SC</td>\n",
       "      <td>Zort�a</td>\n",
       "      <td>0.0</td>\n",
       "      <td>0.0</td>\n",
       "      <td>0.0</td>\n",
       "      <td>0.0</td>\n",
       "      <td>0.0</td>\n",
       "      <td>0.0</td>\n",
       "      <td>0.0</td>\n",
       "      <td>0.0</td>\n",
       "      <td>0.0</td>\n",
       "      <td>0.0</td>\n",
       "      <td>0.0</td>\n",
       "      <td>0.0</td>\n",
       "      <td>0.0</td>\n",
       "      <td>0.0</td>\n",
       "      <td>0.0</td>\n",
       "      <td>0.0</td>\n",
       "      <td>3328</td>\n",
       "      <td>S</td>\n",
       "      <td>0.761</td>\n",
       "      <td>0.752</td>\n",
       "      <td>1.6321</td>\n",
       "      <td>0.544033</td>\n",
       "      <td>0.6574</td>\n",
       "      <td>0.0</td>\n",
       "      <td>0</td>\n",
       "    </tr>\n",
       "  </tbody>\n",
       "</table>\n",
       "<p>5566 rows × 28 columns</p>\n",
       "</div>"
      ],
      "text/plain": [
       "      cod_mun_ent  uf  ... sit_obr  grupos\n",
       "0        520005.0  GO  ...     1.0       0\n",
       "1        310010.0  MG  ...     0.0       0\n",
       "2        520010.0  GO  ...     0.0       0\n",
       "3        310020.0  MG  ...     0.0       0\n",
       "4        150010.0  PA  ...     2.0       0\n",
       "...           ...  ..  ...     ...     ...\n",
       "5564     293360.0  BA  ...     0.0       0\n",
       "5565     251740.0  PB  ...     1.0       0\n",
       "5566     355715.0  SP  ...     0.0       0\n",
       "5567     211400.0  MA  ...     1.0       0\n",
       "5568     421985.0  SC  ...     0.0       0\n",
       "\n",
       "[5566 rows x 28 columns]"
      ]
     },
     "execution_count": 43,
     "metadata": {
      "tags": []
     },
     "output_type": "execute_result"
    }
   ],
   "source": [
    "dfr_g0 = dfr_fpm[dfr_fpm['grupos'] ==0] \n",
    "print('Total de Municípios do Grupo 0:{0}'.format(len(dfr_g0)))\n",
    "dfr_g0"
   ]
  },
  {
   "cell_type": "code",
   "execution_count": 44,
   "metadata": {
    "colab": {
     "base_uri": "https://localhost:8080/",
     "height": 148
    },
    "id": "g9Jrxn6UsCQb",
    "outputId": "3033c5f6-abad-4648-d4f7-33a827a113b4"
   },
   "outputs": [
    {
     "name": "stdout",
     "output_type": "stream",
     "text": [
      "Total de Municípios do Grupo 1:2\n"
     ]
    },
    {
     "data": {
      "text/html": [
       "<div>\n",
       "<style scoped>\n",
       "    .dataframe tbody tr th:only-of-type {\n",
       "        vertical-align: middle;\n",
       "    }\n",
       "\n",
       "    .dataframe tbody tr th {\n",
       "        vertical-align: top;\n",
       "    }\n",
       "\n",
       "    .dataframe thead th {\n",
       "        text-align: right;\n",
       "    }\n",
       "</style>\n",
       "<table border=\"1\" class=\"dataframe\">\n",
       "  <thead>\n",
       "    <tr style=\"text-align: right;\">\n",
       "      <th></th>\n",
       "      <th>cod_mun_ent</th>\n",
       "      <th>uf</th>\n",
       "      <th>nom_municipio_x</th>\n",
       "      <th>1.1</th>\n",
       "      <th>1.3</th>\n",
       "      <th>1.4</th>\n",
       "      <th>1.5</th>\n",
       "      <th>2.1.1</th>\n",
       "      <th>2.1.2</th>\n",
       "      <th>3.1</th>\n",
       "      <th>3.2.2</th>\n",
       "      <th>3.2.3</th>\n",
       "      <th>3.3</th>\n",
       "      <th>3.4</th>\n",
       "      <th>3.5</th>\n",
       "      <th>4.1</th>\n",
       "      <th>4.2</th>\n",
       "      <th>4.3</th>\n",
       "      <th>4.4</th>\n",
       "      <th>qtd_2018_x</th>\n",
       "      <th>Região</th>\n",
       "      <th>idhm</th>\n",
       "      <th>idhm_renda</th>\n",
       "      <th>soma_capag</th>\n",
       "      <th>media_indicadores</th>\n",
       "      <th>mediana_indicadores</th>\n",
       "      <th>sit_obr</th>\n",
       "      <th>grupos</th>\n",
       "    </tr>\n",
       "  </thead>\n",
       "  <tbody>\n",
       "    <tr>\n",
       "      <th>1024</th>\n",
       "      <td>410442.0</td>\n",
       "      <td>PR</td>\n",
       "      <td>Cand�i</td>\n",
       "      <td>0.0</td>\n",
       "      <td>0.0</td>\n",
       "      <td>0.0</td>\n",
       "      <td>0.0</td>\n",
       "      <td>0.0</td>\n",
       "      <td>0.0</td>\n",
       "      <td>0.0</td>\n",
       "      <td>0.0</td>\n",
       "      <td>0.0</td>\n",
       "      <td>0.0</td>\n",
       "      <td>0.0</td>\n",
       "      <td>0.0</td>\n",
       "      <td>0.0</td>\n",
       "      <td>0.0</td>\n",
       "      <td>0.0</td>\n",
       "      <td>0.0</td>\n",
       "      <td>15903</td>\n",
       "      <td>S</td>\n",
       "      <td>0.635</td>\n",
       "      <td>0.655</td>\n",
       "      <td>8.901839e+15</td>\n",
       "      <td>2.967280e+15</td>\n",
       "      <td>0.0507</td>\n",
       "      <td>0.0</td>\n",
       "      <td>1</td>\n",
       "    </tr>\n",
       "    <tr>\n",
       "      <th>3672</th>\n",
       "      <td>431413.0</td>\n",
       "      <td>RS</td>\n",
       "      <td>Paulo Bento</td>\n",
       "      <td>0.0</td>\n",
       "      <td>0.0</td>\n",
       "      <td>0.0</td>\n",
       "      <td>0.0</td>\n",
       "      <td>0.0</td>\n",
       "      <td>0.0</td>\n",
       "      <td>0.0</td>\n",
       "      <td>0.0</td>\n",
       "      <td>0.0</td>\n",
       "      <td>0.0</td>\n",
       "      <td>0.0</td>\n",
       "      <td>0.0</td>\n",
       "      <td>0.0</td>\n",
       "      <td>0.0</td>\n",
       "      <td>0.0</td>\n",
       "      <td>0.0</td>\n",
       "      <td>2287</td>\n",
       "      <td>S</td>\n",
       "      <td>0.710</td>\n",
       "      <td>0.730</td>\n",
       "      <td>9.130442e+15</td>\n",
       "      <td>3.043481e+15</td>\n",
       "      <td>0.1038</td>\n",
       "      <td>0.0</td>\n",
       "      <td>1</td>\n",
       "    </tr>\n",
       "  </tbody>\n",
       "</table>\n",
       "</div>"
      ],
      "text/plain": [
       "      cod_mun_ent  uf nom_municipio_x  ...  mediana_indicadores  sit_obr  grupos\n",
       "1024     410442.0  PR          Cand�i  ...               0.0507      0.0       1\n",
       "3672     431413.0  RS     Paulo Bento  ...               0.1038      0.0       1\n",
       "\n",
       "[2 rows x 28 columns]"
      ]
     },
     "execution_count": 44,
     "metadata": {
      "tags": []
     },
     "output_type": "execute_result"
    }
   ],
   "source": [
    "dfr_g1 = dfr_fpm[dfr_fpm['grupos'] ==1] \n",
    "print('Total de Municípios do Grupo 1:{0}'.format(len(dfr_g1)))\n",
    "dfr_g1"
   ]
  },
  {
   "cell_type": "code",
   "execution_count": 45,
   "metadata": {
    "colab": {
     "base_uri": "https://localhost:8080/",
     "height": 117
    },
    "id": "-pO5HFL0sCQl",
    "outputId": "94d0a6bc-c9ef-4f55-e388-94e4feb16ba2"
   },
   "outputs": [
    {
     "name": "stdout",
     "output_type": "stream",
     "text": [
      "Total de Municípios do Grupo 2:1\n"
     ]
    },
    {
     "data": {
      "text/html": [
       "<div>\n",
       "<style scoped>\n",
       "    .dataframe tbody tr th:only-of-type {\n",
       "        vertical-align: middle;\n",
       "    }\n",
       "\n",
       "    .dataframe tbody tr th {\n",
       "        vertical-align: top;\n",
       "    }\n",
       "\n",
       "    .dataframe thead th {\n",
       "        text-align: right;\n",
       "    }\n",
       "</style>\n",
       "<table border=\"1\" class=\"dataframe\">\n",
       "  <thead>\n",
       "    <tr style=\"text-align: right;\">\n",
       "      <th></th>\n",
       "      <th>cod_mun_ent</th>\n",
       "      <th>uf</th>\n",
       "      <th>nom_municipio_x</th>\n",
       "      <th>1.1</th>\n",
       "      <th>1.3</th>\n",
       "      <th>1.4</th>\n",
       "      <th>1.5</th>\n",
       "      <th>2.1.1</th>\n",
       "      <th>2.1.2</th>\n",
       "      <th>3.1</th>\n",
       "      <th>3.2.2</th>\n",
       "      <th>3.2.3</th>\n",
       "      <th>3.3</th>\n",
       "      <th>3.4</th>\n",
       "      <th>3.5</th>\n",
       "      <th>4.1</th>\n",
       "      <th>4.2</th>\n",
       "      <th>4.3</th>\n",
       "      <th>4.4</th>\n",
       "      <th>qtd_2018_x</th>\n",
       "      <th>Região</th>\n",
       "      <th>idhm</th>\n",
       "      <th>idhm_renda</th>\n",
       "      <th>soma_capag</th>\n",
       "      <th>media_indicadores</th>\n",
       "      <th>mediana_indicadores</th>\n",
       "      <th>sit_obr</th>\n",
       "      <th>grupos</th>\n",
       "    </tr>\n",
       "  </thead>\n",
       "  <tbody>\n",
       "    <tr>\n",
       "      <th>4681</th>\n",
       "      <td>412480.0</td>\n",
       "      <td>PR</td>\n",
       "      <td>S�o Jo�o</td>\n",
       "      <td>0.0</td>\n",
       "      <td>0.0</td>\n",
       "      <td>0.0</td>\n",
       "      <td>0.0</td>\n",
       "      <td>0.0</td>\n",
       "      <td>0.0</td>\n",
       "      <td>2.0</td>\n",
       "      <td>0.0</td>\n",
       "      <td>0.0</td>\n",
       "      <td>0.0</td>\n",
       "      <td>0.0</td>\n",
       "      <td>0.0</td>\n",
       "      <td>0.0</td>\n",
       "      <td>0.0</td>\n",
       "      <td>0.0</td>\n",
       "      <td>0.0</td>\n",
       "      <td>10303</td>\n",
       "      <td>S</td>\n",
       "      <td>0.727</td>\n",
       "      <td>0.695</td>\n",
       "      <td>1.138924e+16</td>\n",
       "      <td>3.796414e+15</td>\n",
       "      <td>0.1769</td>\n",
       "      <td>1.0</td>\n",
       "      <td>2</td>\n",
       "    </tr>\n",
       "  </tbody>\n",
       "</table>\n",
       "</div>"
      ],
      "text/plain": [
       "      cod_mun_ent  uf nom_municipio_x  ...  mediana_indicadores  sit_obr  grupos\n",
       "4681     412480.0  PR        S�o Jo�o  ...               0.1769      1.0       2\n",
       "\n",
       "[1 rows x 28 columns]"
      ]
     },
     "execution_count": 45,
     "metadata": {
      "tags": []
     },
     "output_type": "execute_result"
    }
   ],
   "source": [
    "dfr_g2 = dfr_fpm[dfr_fpm['grupos'] ==2] \n",
    "print('Total de Municípios do Grupo 2:{0}'.format(len(dfr_g2)))\n",
    "dfr_g2"
   ]
  }
 ],
 "metadata": {
  "colab": {
   "name": "03_models-Copy1.ipynb",
   "provenance": []
  },
  "kernelspec": {
   "display_name": "Python 3",
   "language": "python",
   "name": "python3"
  },
  "language_info": {
   "codemirror_mode": {
    "name": "ipython",
    "version": 3
   },
   "file_extension": ".py",
   "mimetype": "text/x-python",
   "name": "python",
   "nbconvert_exporter": "python",
   "pygments_lexer": "ipython3",
   "version": "3.7.4"
  }
 },
 "nbformat": 4,
 "nbformat_minor": 1
}
